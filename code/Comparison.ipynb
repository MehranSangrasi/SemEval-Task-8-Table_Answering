{
 "cells": [
  {
   "cell_type": "code",
   "execution_count": 15,
   "metadata": {},
   "outputs": [
    {
     "name": "stdout",
     "output_type": "stream",
     "text": [
      "1308\n"
     ]
    },
    {
     "ename": "ValueError",
     "evalue": "The second CSV has fewer rows than the specified number of rows in the first CSV.",
     "output_type": "error",
     "traceback": [
      "\u001b[1;31m---------------------------------------------------------------------------\u001b[0m",
      "\u001b[1;31mValueError\u001b[0m                                Traceback (most recent call last)",
      "Cell \u001b[1;32mIn[15], line 26\u001b[0m\n\u001b[0;32m     24\u001b[0m \u001b[38;5;66;03m# Ensure the lengths match (compare only the first 45 rows of the second CSV as well)\u001b[39;00m\n\u001b[0;32m     25\u001b[0m \u001b[38;5;28;01mif\u001b[39;00m \u001b[38;5;28mlen\u001b[39m(df1[actual_answer]) \u001b[38;5;241m>\u001b[39m \u001b[38;5;28mlen\u001b[39m(df2[our_answer]):\n\u001b[1;32m---> 26\u001b[0m     \u001b[38;5;28;01mraise\u001b[39;00m \u001b[38;5;167;01mValueError\u001b[39;00m(\u001b[38;5;124m\"\u001b[39m\u001b[38;5;124mThe second CSV has fewer rows than the specified number of rows in the first CSV.\u001b[39m\u001b[38;5;124m\"\u001b[39m)\n",
      "\u001b[1;31mValueError\u001b[0m: The second CSV has fewer rows than the specified number of rows in the first CSV."
     ]
    }
   ],
   "source": [
    "import pandas as pd\n",
    "\n",
    "# File paths for the two CSVs\n",
    "csv1_path = 'D:\\\\Semester 7\\\\NLP\\\\project\\\\SemEval-Task-8-Table_Answering\\\\data\\\\queries_with_answers.csv'\n",
    "csv2_path = 'D:\\\\Semester 7\\\\NLP\\\\project\\\\SemEval-Task-8-Table_Answering\\\\data\\\\queries_with_answers_final_4.csv'\n",
    "\n",
    "# Specify the column to compare\n",
    "actual_answer = 'actual_answer'\n",
    "our_answer = 'answers'\n",
    "\n",
    "\n",
    "# Read the first 45 rows from the first CSV\n",
    "df1 = pd.read_csv(csv1_path)\n",
    "\n",
    "# Read the second CSV completely\n",
    "df2 = pd.read_csv(csv2_path)\n",
    "\n",
    "print(len(df1['actual_answer']))\n",
    "\n",
    "# Check if the column exists in both files\n",
    "if actual_answer not in df1.columns or our_answer not in df2.columns:\n",
    "    raise ValueError(f\"The column '{our_answer}' OR '{actual_answer}' must exist in both CSV files.\")\n",
    "\n",
    "# Ensure the lengths match (compare only the first 45 rows of the second CSV as well)\n",
    "if len(df1[actual_answer]) > len(df2[our_answer]):\n",
    "    raise ValueError(\"The second CSV has fewer rows than the specified number of rows in the first CSV.\")\n",
    "\n"
   ]
  },
  {
   "cell_type": "code",
   "execution_count": 12,
   "metadata": {},
   "outputs": [
    {
     "name": "stdout",
     "output_type": "stream",
     "text": [
      "The first 45 rows of the first CSV:\n",
      "0                                                  True\n",
      "1                                                  True\n",
      "2                                                  True\n",
      "3                                                  True\n",
      "4                                                 False\n",
      "5                                                  19.0\n",
      "6                                                   343\n",
      "7                                                583600\n",
      "8                                                    25\n",
      "9                                                     3\n",
      "10                                           Automotive\n",
      "11                                        United States\n",
      "12                                                    M\n",
      "13                                           drugstores\n",
      "14                                                  NaN\n",
      "15                  ['United States', 'China', 'India']\n",
      "16    ['real estate', 'investments', 'pharmaceutical...\n",
      "17               ['', 'Los Angeles', 'Jiaozuo', 'Oslo']\n",
      "18        ['Logistics', 'Sports', 'Gambling & Casinos']\n",
      "19                              ['Colombia', 'Andorra']\n",
      "20                                  [3, 10, 14, 16, 18]\n",
      "21                                   [48.0, 83.0, 83.0]\n",
      "22      [171000, 129000, 111000, 107000, 106000, 91400]\n",
      "23                                     [14, 18, 21, 30]\n",
      "24                                      [219000, 44800]\n",
      "25                                                 True\n",
      "26                                                 True\n",
      "27                                                 True\n",
      "28                                                 True\n",
      "29                                                    3\n",
      "30                                                 80.0\n",
      "31                                                  604\n",
      "32                                                32.31\n",
      "33                                                    1\n",
      "34                                               female\n",
      "35                                                 0-50\n",
      "36                                                18-30\n",
      "37                                            [1, 2, 3]\n",
      "38                        ['50-100', '150+', '100-150']\n",
      "39                    ['30-50', '18-30', '0-18', '50+']\n",
      "40                                   ['female', 'male']\n",
      "41                                         [80, 63, 63]\n",
      "42                     [512.239, 512.239, 512.239, 263]\n",
      "43                                            [1, 1, 1]\n",
      "44                                         [0, 0, 0, 0]\n",
      "Name: answer, dtype: object\n",
      "\n",
      "The first 45 rows of the second CSV:\n",
      "0                                                 ERROR\n",
      "1                                                 ERROR\n",
      "2                                                  True\n",
      "3                                                  True\n",
      "4                                                 False\n",
      "5                                                  19.0\n",
      "6                                                   343\n",
      "7                                                 ERROR\n",
      "8                                                   25 \n",
      "9                                                     3\n",
      "10                                                ERROR\n",
      "11                                        United States\n",
      "12                                                     \n",
      "13                                           drugstores\n",
      "14                                                  NaN\n",
      "15                  ['United States', 'China', 'India']\n",
      "16    ['real estate', 'investments', 'pharmaceutical...\n",
      "17                                                ERROR\n",
      "18                                                  NaN\n",
      "19                              ['Colombia', 'Andorra']\n",
      "20                                  [3, 10, 14, 16, 18]\n",
      "21                                   [48.0, 83.0, 83.0]\n",
      "22      [171000, 129000, 111000, 107000, 106000, 91400]\n",
      "23                                     [14, 18, 21, 30]\n",
      "24                                                   []\n",
      "25                                                 True\n",
      "26                                                 True\n",
      "27                                                 True\n",
      "28                                                 True\n",
      "29                                                    3\n",
      "30                                                 80.0\n",
      "31                                                  604\n",
      "32                                                32.31\n",
      "33                                                    1\n",
      "34                                               female\n",
      "35                                                 0-50\n",
      "36                                                    2\n",
      "37                                            [1, 2, 3]\n",
      "38                                                ERROR\n",
      "39                                                ERROR\n",
      "40                                   ['female', 'male']\n",
      "41                                         [80, 63, 63]\n",
      "42                     [512.239, 512.239, 512.239, 263]\n",
      "43                                            [1, 1, 1]\n",
      "44                                         [0, 0, 0, 0]\n",
      "Name: answer, dtype: object\n"
     ]
    }
   ],
   "source": [
    "print(\"The first 45 rows of the first CSV:\")\n",
    "print(df1['answer'])\n",
    "\n",
    "print(\"\\nThe first 45 rows of the second CSV:\")\n",
    "print(df2['answer'])"
   ]
  },
  {
   "cell_type": "code",
   "execution_count": 13,
   "metadata": {},
   "outputs": [
    {
     "name": "stdout",
     "output_type": "stream",
     "text": [
      "Accuracy: 71.11% (32/45 matches)\n"
     ]
    }
   ],
   "source": [
    "# Compute the accuracy (only for the first 45 rows of df2)\n",
    "matches = (df1[column_name] == df2[column_name][:45]).sum()\n",
    "total = len(df1[column_name])\n",
    "accuracy = (matches / total) * 100\n",
    "\n",
    "# Print the accuracy\n",
    "print(f\"Accuracy: {accuracy:.2f}% ({matches}/{total} matches)\")\n"
   ]
  },
  {
   "cell_type": "code",
   "execution_count": null,
   "metadata": {},
   "outputs": [],
   "source": []
  }
 ],
 "metadata": {
  "kernelspec": {
   "display_name": ".venv",
   "language": "python",
   "name": "python3"
  },
  "language_info": {
   "codemirror_mode": {
    "name": "ipython",
    "version": 3
   },
   "file_extension": ".py",
   "mimetype": "text/x-python",
   "name": "python",
   "nbconvert_exporter": "python",
   "pygments_lexer": "ipython3",
   "version": "3.11.6"
  }
 },
 "nbformat": 4,
 "nbformat_minor": 2
}
